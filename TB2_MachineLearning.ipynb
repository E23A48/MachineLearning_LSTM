{
  "nbformat": 4,
  "nbformat_minor": 0,
  "metadata": {
    "kernelspec": {
      "display_name": "Python 3",
      "language": "python",
      "name": "python3"
    },
    "language_info": {
      "codemirror_mode": {
        "name": "ipython",
        "version": 3
      },
      "file_extension": ".py",
      "mimetype": "text/x-python",
      "name": "python",
      "nbconvert_exporter": "python",
      "pygments_lexer": "ipython3",
      "version": "3.7.3"
    },
    "colab": {
      "name": "TB2_MachineLearning.ipynb",
      "provenance": [],
      "collapsed_sections": [],
      "toc_visible": true,
      "include_colab_link": true
    }
  },
  "cells": [
    {
      "cell_type": "markdown",
      "metadata": {
        "id": "view-in-github",
        "colab_type": "text"
      },
      "source": [
        "<a href=\"https://colab.research.google.com/github/E23A48/MachineLearning_LSTM/blob/main/TB2_MachineLearning.ipynb\" target=\"_parent\"><img src=\"https://colab.research.google.com/assets/colab-badge.svg\" alt=\"Open In Colab\"/></a>"
      ]
    },
    {
      "cell_type": "markdown",
      "metadata": {
        "id": "HqKH17LIF87j"
      },
      "source": [
        "**Integrantes:**\n",
        "\n",
        "*   Camilo Silva\n",
        "*   Piero Herrera\n",
        "\n"
      ]
    },
    {
      "cell_type": "markdown",
      "metadata": {
        "id": "GuFwkrhlHwV4"
      },
      "source": [
        "#### Librerías importadas"
      ]
    },
    {
      "cell_type": "code",
      "metadata": {
        "id": "6Zc467ykyadM"
      },
      "source": [
        "from IPython.core.debugger import set_trace\n",
        "import pandas as pd #Nos permite cargar el dataset con la información a utilizar\n",
        "import numpy as np #Manejo de numpy arrays\n",
        "import os\n",
        "import matplotlib.pyplot as plt  #Para graficar la tabla de validación\n",
        "import time\n",
        "from sklearn.metrics import mean_squared_error #Para medir el error cuadratico medio\n",
        "from keras.models import Sequential\n",
        "from keras.layers import LSTM, Dense, RNN, GRU, SimpleRNN\n",
        "from sklearn.preprocessing import MinMaxScaler\n",
        "\n",
        "plt.style.use(style=\"seaborn\") #Estilo de plot \n",
        "%matplotlib inline"
      ],
      "execution_count": 221,
      "outputs": []
    },
    {
      "cell_type": "markdown",
      "metadata": {
        "id": "X9nsqx_jTola"
      },
      "source": [
        "Se implementará la red LSTM para realizar la predicción del valor de acciones de una determinada compañía. "
      ]
    },
    {
      "cell_type": "markdown",
      "metadata": {
        "id": "-X0YNKZGEtrI"
      },
      "source": [
        "#### Carga del dataset"
      ]
    },
    {
      "cell_type": "markdown",
      "metadata": {
        "id": "kDj1QZ8gQChv"
      },
      "source": [
        "El dataset usado contiene la información de los precios de las acciones de la compañía Microsoft desde agosto del 2019 hasta agosto del 2020. "
      ]
    },
    {
      "cell_type": "code",
      "metadata": {
        "id": "iP9E52dZyadN",
        "colab": {
          "base_uri": "https://localhost:8080/"
        },
        "outputId": "9b87357a-4806-468a-cf64-c414a80bba29"
      },
      "source": [
        "df = pd.read_csv(\"https://raw.githubusercontent.com/E23A48/test_datasets/main/MSFT-1Y-Hourly.csv\")\n",
        "df.info()"
      ],
      "execution_count": null,
      "outputs": [
        {
          "output_type": "stream",
          "text": [
            "<class 'pandas.core.frame.DataFrame'>\n",
            "RangeIndex: 1753 entries, 0 to 1752\n",
            "Data columns (total 8 columns):\n",
            " #   Column    Non-Null Count  Dtype  \n",
            "---  ------    --------------  -----  \n",
            " 0   date      1753 non-null   object \n",
            " 1   open      1753 non-null   float64\n",
            " 2   high      1753 non-null   float64\n",
            " 3   low       1753 non-null   float64\n",
            " 4   close     1753 non-null   float64\n",
            " 5   volume    1753 non-null   int64  \n",
            " 6   average   1753 non-null   float64\n",
            " 7   barCount  1753 non-null   int64  \n",
            "dtypes: float64(5), int64(2), object(1)\n",
            "memory usage: 109.7+ KB\n"
          ],
          "name": "stdout"
        }
      ]
    },
    {
      "cell_type": "markdown",
      "metadata": {
        "id": "vY9e-XU4Uc5A"
      },
      "source": [
        "Como podemos observar, los registros se hacen cada hora, desde que se abre el mercado hasta que se cierra."
      ]
    },
    {
      "cell_type": "code",
      "metadata": {
        "colab": {
          "base_uri": "https://localhost:8080/",
          "height": 235
        },
        "id": "_-TJKK2eFTaq",
        "outputId": "618102b2-a462-489c-8c80-0212e1597fa2"
      },
      "source": [
        "df.set_index(\"date\", drop=True, inplace=True)\n",
        "df.head(5)"
      ],
      "execution_count": null,
      "outputs": [
        {
          "output_type": "execute_result",
          "data": {
            "text/html": [
              "<div>\n",
              "<style scoped>\n",
              "    .dataframe tbody tr th:only-of-type {\n",
              "        vertical-align: middle;\n",
              "    }\n",
              "\n",
              "    .dataframe tbody tr th {\n",
              "        vertical-align: top;\n",
              "    }\n",
              "\n",
              "    .dataframe thead th {\n",
              "        text-align: right;\n",
              "    }\n",
              "</style>\n",
              "<table border=\"1\" class=\"dataframe\">\n",
              "  <thead>\n",
              "    <tr style=\"text-align: right;\">\n",
              "      <th></th>\n",
              "      <th>open</th>\n",
              "      <th>high</th>\n",
              "      <th>low</th>\n",
              "      <th>close</th>\n",
              "      <th>volume</th>\n",
              "      <th>average</th>\n",
              "      <th>barCount</th>\n",
              "    </tr>\n",
              "    <tr>\n",
              "      <th>date</th>\n",
              "      <th></th>\n",
              "      <th></th>\n",
              "      <th></th>\n",
              "      <th></th>\n",
              "      <th></th>\n",
              "      <th></th>\n",
              "      <th></th>\n",
              "    </tr>\n",
              "  </thead>\n",
              "  <tbody>\n",
              "    <tr>\n",
              "      <th>2019-08-07 14:30:00</th>\n",
              "      <td>133.80</td>\n",
              "      <td>133.83</td>\n",
              "      <td>131.82</td>\n",
              "      <td>132.89</td>\n",
              "      <td>35647</td>\n",
              "      <td>132.701</td>\n",
              "      <td>17523</td>\n",
              "    </tr>\n",
              "    <tr>\n",
              "      <th>2019-08-07 15:00:00</th>\n",
              "      <td>132.87</td>\n",
              "      <td>135.20</td>\n",
              "      <td>132.64</td>\n",
              "      <td>134.75</td>\n",
              "      <td>48757</td>\n",
              "      <td>134.043</td>\n",
              "      <td>26974</td>\n",
              "    </tr>\n",
              "    <tr>\n",
              "      <th>2019-08-07 16:00:00</th>\n",
              "      <td>134.74</td>\n",
              "      <td>134.92</td>\n",
              "      <td>133.52</td>\n",
              "      <td>133.88</td>\n",
              "      <td>28977</td>\n",
              "      <td>134.147</td>\n",
              "      <td>17853</td>\n",
              "    </tr>\n",
              "    <tr>\n",
              "      <th>2019-08-07 17:00:00</th>\n",
              "      <td>133.89</td>\n",
              "      <td>134.06</td>\n",
              "      <td>133.07</td>\n",
              "      <td>133.90</td>\n",
              "      <td>21670</td>\n",
              "      <td>133.618</td>\n",
              "      <td>13497</td>\n",
              "    </tr>\n",
              "    <tr>\n",
              "      <th>2019-08-07 18:00:00</th>\n",
              "      <td>133.89</td>\n",
              "      <td>135.24</td>\n",
              "      <td>133.83</td>\n",
              "      <td>134.83</td>\n",
              "      <td>22648</td>\n",
              "      <td>134.653</td>\n",
              "      <td>12602</td>\n",
              "    </tr>\n",
              "  </tbody>\n",
              "</table>\n",
              "</div>"
            ],
            "text/plain": [
              "                       open    high     low   close  volume  average  barCount\n",
              "date                                                                          \n",
              "2019-08-07 14:30:00  133.80  133.83  131.82  132.89   35647  132.701     17523\n",
              "2019-08-07 15:00:00  132.87  135.20  132.64  134.75   48757  134.043     26974\n",
              "2019-08-07 16:00:00  134.74  134.92  133.52  133.88   28977  134.147     17853\n",
              "2019-08-07 17:00:00  133.89  134.06  133.07  133.90   21670  133.618     13497\n",
              "2019-08-07 18:00:00  133.89  135.24  133.83  134.83   22648  134.653     12602"
            ]
          },
          "metadata": {
            "tags": []
          },
          "execution_count": 97
        }
      ]
    },
    {
      "cell_type": "markdown",
      "metadata": {
        "id": "pTeqqMg9S9OI"
      },
      "source": [
        "*   Open: Valor del stock al momento de abrir\n",
        "*   Hight: Valor más alto del stock registrado dentro de la hora\n",
        "*   Low: Valor más bajo del stock registrado dentro de la hora\n",
        "*   Close: Valor del stock al momento de cerrar\n",
        "\n",
        "\n"
      ]
    },
    {
      "cell_type": "markdown",
      "metadata": {
        "id": "wVCA73hlyadN"
      },
      "source": [
        "Para esta implementación solo se hará uso del valo registrado al momento de cerrar el mercado."
      ]
    },
    {
      "cell_type": "code",
      "metadata": {
        "id": "8rWNWmDHyadN"
      },
      "source": [
        "df = df[[\"close\"]]"
      ],
      "execution_count": null,
      "outputs": []
    },
    {
      "cell_type": "code",
      "metadata": {
        "colab": {
          "base_uri": "https://localhost:8080/"
        },
        "id": "sRTs_R9gyadN",
        "outputId": "26046c12-3208-4f12-e77d-588b4f607f4e"
      },
      "source": [
        "type(df[\"close\"]) == type(df[[\"close\"]])"
      ],
      "execution_count": null,
      "outputs": [
        {
          "output_type": "execute_result",
          "data": {
            "text/plain": [
              "False"
            ]
          },
          "metadata": {
            "tags": []
          },
          "execution_count": 99
        }
      ]
    },
    {
      "cell_type": "code",
      "metadata": {
        "colab": {
          "base_uri": "https://localhost:8080/"
        },
        "id": "COjgvWS6yadN",
        "outputId": "cd9b7418-5237-4c88-be66-1566f0883e40"
      },
      "source": [
        "type(df[[\"close\"]])"
      ],
      "execution_count": null,
      "outputs": [
        {
          "output_type": "execute_result",
          "data": {
            "text/plain": [
              "pandas.core.frame.DataFrame"
            ]
          },
          "metadata": {
            "tags": []
          },
          "execution_count": 100
        }
      ]
    },
    {
      "cell_type": "markdown",
      "metadata": {
        "id": "RrZ1HydnUqnG"
      },
      "source": [
        "DataSet con unicamente la columna **close**"
      ]
    },
    {
      "cell_type": "code",
      "metadata": {
        "colab": {
          "base_uri": "https://localhost:8080/",
          "height": 297
        },
        "id": "vhBzEXCeyadN",
        "outputId": "95e695a2-050c-4ee1-9334-15407d0daa4c"
      },
      "source": [
        "df.describe()"
      ],
      "execution_count": null,
      "outputs": [
        {
          "output_type": "execute_result",
          "data": {
            "text/html": [
              "<div>\n",
              "<style scoped>\n",
              "    .dataframe tbody tr th:only-of-type {\n",
              "        vertical-align: middle;\n",
              "    }\n",
              "\n",
              "    .dataframe tbody tr th {\n",
              "        vertical-align: top;\n",
              "    }\n",
              "\n",
              "    .dataframe thead th {\n",
              "        text-align: right;\n",
              "    }\n",
              "</style>\n",
              "<table border=\"1\" class=\"dataframe\">\n",
              "  <thead>\n",
              "    <tr style=\"text-align: right;\">\n",
              "      <th></th>\n",
              "      <th>close</th>\n",
              "    </tr>\n",
              "  </thead>\n",
              "  <tbody>\n",
              "    <tr>\n",
              "      <th>count</th>\n",
              "      <td>1753.000000</td>\n",
              "    </tr>\n",
              "    <tr>\n",
              "      <th>mean</th>\n",
              "      <td>164.330610</td>\n",
              "    </tr>\n",
              "    <tr>\n",
              "      <th>std</th>\n",
              "      <td>23.125225</td>\n",
              "    </tr>\n",
              "    <tr>\n",
              "      <th>min</th>\n",
              "      <td>132.670000</td>\n",
              "    </tr>\n",
              "    <tr>\n",
              "      <th>25%</th>\n",
              "      <td>143.320000</td>\n",
              "    </tr>\n",
              "    <tr>\n",
              "      <th>50%</th>\n",
              "      <td>159.750000</td>\n",
              "    </tr>\n",
              "    <tr>\n",
              "      <th>75%</th>\n",
              "      <td>183.390000</td>\n",
              "    </tr>\n",
              "    <tr>\n",
              "      <th>max</th>\n",
              "      <td>216.540000</td>\n",
              "    </tr>\n",
              "  </tbody>\n",
              "</table>\n",
              "</div>"
            ],
            "text/plain": [
              "             close\n",
              "count  1753.000000\n",
              "mean    164.330610\n",
              "std      23.125225\n",
              "min     132.670000\n",
              "25%     143.320000\n",
              "50%     159.750000\n",
              "75%     183.390000\n",
              "max     216.540000"
            ]
          },
          "metadata": {
            "tags": []
          },
          "execution_count": 101
        }
      ]
    },
    {
      "cell_type": "markdown",
      "metadata": {
        "id": "F522sP40UxdR"
      },
      "source": [
        "Representación gráfica del valor de las acciones a lo largo de las horas y días:"
      ]
    },
    {
      "cell_type": "code",
      "metadata": {
        "colab": {
          "base_uri": "https://localhost:8080/",
          "height": 375
        },
        "id": "PjdmkEmuyadN",
        "outputId": "be2bdece-4387-4b49-eaf6-32904390568c"
      },
      "source": [
        "plt.figure(1, figsize=(16, 6))\n",
        "_ = plt.plot(df.close)"
      ],
      "execution_count": null,
      "outputs": [
        {
          "output_type": "display_data",
          "data": {
            "image/png": "[encoded data removed]",
            "text/plain": [
              "<Figure size 1152x432 with 1 Axes>"
            ]
          },
          "metadata": {
            "tags": [],
            "needs_background": "light"
          }
        }
      ]
    },
    {
      "cell_type": "markdown",
      "metadata": {
        "id": "9MopspwKXPFU"
      },
      "source": [
        "#### **Calcular cambio porcentual:**\n",
        "\n",
        "Se usa la función **pct_change** (cambio porcentual) en lugar de directamente el valor es la normalización. Esto nos permite medir todas las variables en una métrica comparable. Además, los retornos tienen propiedades estadísticas más flexibles que los precios, como la estacionariedad, ya que en la mayoría de los casos no tenemos precios estacionarios pero podemos tener retornos estacionarios.\n",
        "\n",
        "* Una serie de tiempo estacionaria es aquella en la que las propiedades estadísticas como la media, la varianza, la correlación, etc., son constantes en el tiempo."
      ]
    },
    {
      "cell_type": "code",
      "metadata": {
        "id": "VmJrlc2UyadO"
      },
      "source": [
        "df[\"returns\"] = df.close.pct_change()"
      ],
      "execution_count": null,
      "outputs": []
    },
    {
      "cell_type": "code",
      "metadata": {
        "colab": {
          "base_uri": "https://localhost:8080/",
          "height": 235
        },
        "id": "9NF5uwRVyadO",
        "outputId": "513039fb-adef-494e-bac6-28b2cfe8ab59"
      },
      "source": [
        "df.head(5)"
      ],
      "execution_count": null,
      "outputs": [
        {
          "output_type": "execute_result",
          "data": {
            "text/html": [
              "<div>\n",
              "<style scoped>\n",
              "    .dataframe tbody tr th:only-of-type {\n",
              "        vertical-align: middle;\n",
              "    }\n",
              "\n",
              "    .dataframe tbody tr th {\n",
              "        vertical-align: top;\n",
              "    }\n",
              "\n",
              "    .dataframe thead th {\n",
              "        text-align: right;\n",
              "    }\n",
              "</style>\n",
              "<table border=\"1\" class=\"dataframe\">\n",
              "  <thead>\n",
              "    <tr style=\"text-align: right;\">\n",
              "      <th></th>\n",
              "      <th>close</th>\n",
              "      <th>returns</th>\n",
              "    </tr>\n",
              "    <tr>\n",
              "      <th>date</th>\n",
              "      <th></th>\n",
              "      <th></th>\n",
              "    </tr>\n",
              "  </thead>\n",
              "  <tbody>\n",
              "    <tr>\n",
              "      <th>2019-08-07 14:30:00</th>\n",
              "      <td>132.89</td>\n",
              "      <td>NaN</td>\n",
              "    </tr>\n",
              "    <tr>\n",
              "      <th>2019-08-07 15:00:00</th>\n",
              "      <td>134.75</td>\n",
              "      <td>0.013997</td>\n",
              "    </tr>\n",
              "    <tr>\n",
              "      <th>2019-08-07 16:00:00</th>\n",
              "      <td>133.88</td>\n",
              "      <td>-0.006456</td>\n",
              "    </tr>\n",
              "    <tr>\n",
              "      <th>2019-08-07 17:00:00</th>\n",
              "      <td>133.90</td>\n",
              "      <td>0.000149</td>\n",
              "    </tr>\n",
              "    <tr>\n",
              "      <th>2019-08-07 18:00:00</th>\n",
              "      <td>134.83</td>\n",
              "      <td>0.006945</td>\n",
              "    </tr>\n",
              "  </tbody>\n",
              "</table>\n",
              "</div>"
            ],
            "text/plain": [
              "                      close   returns\n",
              "date                                 \n",
              "2019-08-07 14:30:00  132.89       NaN\n",
              "2019-08-07 15:00:00  134.75  0.013997\n",
              "2019-08-07 16:00:00  133.88 -0.006456\n",
              "2019-08-07 17:00:00  133.90  0.000149\n",
              "2019-08-07 18:00:00  134.83  0.006945"
            ]
          },
          "metadata": {
            "tags": []
          },
          "execution_count": 104
        }
      ]
    },
    {
      "cell_type": "markdown",
      "metadata": {
        "id": "IZhKIvsEY5MB"
      },
      "source": [
        "Calculo manual de representación"
      ]
    },
    {
      "cell_type": "code",
      "metadata": {
        "colab": {
          "base_uri": "https://localhost:8080/"
        },
        "id": "O4zogi7iyadO",
        "outputId": "ae407f10-b22a-4f56-e4ea-793f2df1547c"
      },
      "source": [
        "134.75 / 132.89 - 1"
      ],
      "execution_count": null,
      "outputs": [
        {
          "output_type": "execute_result",
          "data": {
            "text/plain": [
              "0.013996538490480992"
            ]
          },
          "metadata": {
            "tags": []
          },
          "execution_count": 105
        }
      ]
    },
    {
      "cell_type": "markdown",
      "metadata": {
        "id": "Vf1D8gL3yadO"
      },
      "source": [
        "#### **Calcular retornos logarítmicos**\n",
        "\n",
        "Aparte de la normalización, los retornos logaritmicos tiene varias ventajas:\n",
        "\n",
        "*   **Logaritmo de normalidad**\n",
        "*   **Igualdad aproximada del registro bruto:**: Cuando los retornos son muy pequeños, la siguiente aproximación asegura que su valor sea cercano a los retornos brutos\n",
        "*   **Aditividad en el tiempo**: Permite tener en cuenta el rendimiento acumulado a través del tiempo\n",
        "*   **Facilidad matemática**: Cálculo simple\n",
        "*   **Estabilidad numérica**: La suma de números pequeños es numéricamente segura, caso contrario en las multiplicaciones que generan desbordamiento aritmético.\n",
        "\n",
        "\n",
        "\n",
        "\n",
        "\n"
      ]
    },
    {
      "cell_type": "code",
      "metadata": {
        "id": "O4k9iJ9eyadO"
      },
      "source": [
        "df[\"log_returns\"] = np.log(1 + df[\"returns\"])"
      ],
      "execution_count": null,
      "outputs": []
    },
    {
      "cell_type": "code",
      "metadata": {
        "colab": {
          "base_uri": "https://localhost:8080/",
          "height": 235
        },
        "id": "F1LyvJcMyadO",
        "outputId": "efb2aaba-087f-4b35-eb88-5469f2cc0d07"
      },
      "source": [
        "df.head(5)"
      ],
      "execution_count": null,
      "outputs": [
        {
          "output_type": "execute_result",
          "data": {
            "text/html": [
              "<div>\n",
              "<style scoped>\n",
              "    .dataframe tbody tr th:only-of-type {\n",
              "        vertical-align: middle;\n",
              "    }\n",
              "\n",
              "    .dataframe tbody tr th {\n",
              "        vertical-align: top;\n",
              "    }\n",
              "\n",
              "    .dataframe thead th {\n",
              "        text-align: right;\n",
              "    }\n",
              "</style>\n",
              "<table border=\"1\" class=\"dataframe\">\n",
              "  <thead>\n",
              "    <tr style=\"text-align: right;\">\n",
              "      <th></th>\n",
              "      <th>close</th>\n",
              "      <th>returns</th>\n",
              "      <th>log_returns</th>\n",
              "    </tr>\n",
              "    <tr>\n",
              "      <th>date</th>\n",
              "      <th></th>\n",
              "      <th></th>\n",
              "      <th></th>\n",
              "    </tr>\n",
              "  </thead>\n",
              "  <tbody>\n",
              "    <tr>\n",
              "      <th>2019-08-07 14:30:00</th>\n",
              "      <td>132.89</td>\n",
              "      <td>NaN</td>\n",
              "      <td>NaN</td>\n",
              "    </tr>\n",
              "    <tr>\n",
              "      <th>2019-08-07 15:00:00</th>\n",
              "      <td>134.75</td>\n",
              "      <td>0.013997</td>\n",
              "      <td>0.013899</td>\n",
              "    </tr>\n",
              "    <tr>\n",
              "      <th>2019-08-07 16:00:00</th>\n",
              "      <td>133.88</td>\n",
              "      <td>-0.006456</td>\n",
              "      <td>-0.006477</td>\n",
              "    </tr>\n",
              "    <tr>\n",
              "      <th>2019-08-07 17:00:00</th>\n",
              "      <td>133.90</td>\n",
              "      <td>0.000149</td>\n",
              "      <td>0.000149</td>\n",
              "    </tr>\n",
              "    <tr>\n",
              "      <th>2019-08-07 18:00:00</th>\n",
              "      <td>134.83</td>\n",
              "      <td>0.006945</td>\n",
              "      <td>0.006921</td>\n",
              "    </tr>\n",
              "  </tbody>\n",
              "</table>\n",
              "</div>"
            ],
            "text/plain": [
              "                      close   returns  log_returns\n",
              "date                                              \n",
              "2019-08-07 14:30:00  132.89       NaN          NaN\n",
              "2019-08-07 15:00:00  134.75  0.013997     0.013899\n",
              "2019-08-07 16:00:00  133.88 -0.006456    -0.006477\n",
              "2019-08-07 17:00:00  133.90  0.000149     0.000149\n",
              "2019-08-07 18:00:00  134.83  0.006945     0.006921"
            ]
          },
          "metadata": {
            "tags": []
          },
          "execution_count": 107
        }
      ]
    },
    {
      "cell_type": "markdown",
      "metadata": {
        "id": "2eRqT3o7bWof"
      },
      "source": [
        "Visualización de **retornos logaritmicos** a traves del tiempo"
      ]
    },
    {
      "cell_type": "code",
      "metadata": {
        "colab": {
          "base_uri": "https://localhost:8080/",
          "height": 279
        },
        "id": "h3YdfsEAyadO",
        "outputId": "2badc99f-4134-48e9-bffc-415d7967cc1f"
      },
      "source": [
        "plt.figure(1, figsize=(16, 4))\n",
        "plt.plot(df.log_returns)"
      ],
      "execution_count": null,
      "outputs": [
        {
          "output_type": "execute_result",
          "data": {
            "text/plain": [
              "[<matplotlib.lines.Line2D at 0x7f3babc8b6a0>]"
            ]
          },
          "metadata": {
            "tags": []
          },
          "execution_count": 108
        },
        {
          "output_type": "display_data",
          "data": {
            "image/png": "[encoded data removed]",
            "text/plain": [
              "<Figure size 1152x288 with 1 Axes>"
            ]
          },
          "metadata": {
            "tags": [],
            "needs_background": "light"
          }
        }
      ]
    },
    {
      "cell_type": "code",
      "metadata": {
        "id": "7wXwpN3ayadO"
      },
      "source": [
        "df.dropna(inplace=True)\n",
        "X = df[[\"close\", \"log_returns\"]].values"
      ],
      "execution_count": null,
      "outputs": []
    },
    {
      "cell_type": "code",
      "metadata": {
        "colab": {
          "base_uri": "https://localhost:8080/"
        },
        "id": "z6q7SCowyadO",
        "outputId": "7a7a979b-4e24-493b-889b-c8f183a9714e"
      },
      "source": [
        "X"
      ],
      "execution_count": null,
      "outputs": [
        {
          "output_type": "execute_result",
          "data": {
            "text/plain": [
              "array([[ 1.34750000e+02,  1.38994914e-02],\n",
              "       [ 1.33880000e+02, -6.47733345e-03],\n",
              "       [ 1.33900000e+02,  1.49376354e-04],\n",
              "       ...,\n",
              "       [ 2.13350000e+02,  6.48925441e-03],\n",
              "       [ 2.14190000e+02,  3.92946195e-03],\n",
              "       [ 2.13640000e+02, -2.57111611e-03]])"
            ]
          },
          "metadata": {
            "tags": []
          },
          "execution_count": 110
        }
      ]
    },
    {
      "cell_type": "markdown",
      "metadata": {
        "id": "6Bpngr_Xb5yp"
      },
      "source": [
        "#### **Transformación de las características a un rango determinado**\n",
        "\n"
      ]
    },
    {
      "cell_type": "code",
      "metadata": {
        "id": "X8ChYNkeyadO"
      },
      "source": [
        "scaler = MinMaxScaler(feature_range=(0, 1)).fit(X)\n",
        "X_scaled = scaler.transform(X)"
      ],
      "execution_count": null,
      "outputs": []
    },
    {
      "cell_type": "code",
      "metadata": {
        "colab": {
          "base_uri": "https://localhost:8080/"
        },
        "id": "DJty0nsJyadO",
        "outputId": "5f821d05-a1f2-4cef-f6bf-c9dc79bb8e9c"
      },
      "source": [
        "X_scaled[:5]"
      ],
      "execution_count": null,
      "outputs": [
        {
          "output_type": "execute_result",
          "data": {
            "text/plain": [
              "array([[0.02480029, 0.6063657 ],\n",
              "       [0.01442709, 0.50534309],\n",
              "       [0.01466555, 0.53819647],\n",
              "       [0.02575414, 0.57177063],\n",
              "       [0.03350423, 0.56129908]])"
            ]
          },
          "metadata": {
            "tags": []
          },
          "execution_count": 113
        }
      ]
    },
    {
      "cell_type": "code",
      "metadata": {
        "id": "tZSLVXqdyadO"
      },
      "source": [
        "y = [x[0] for x in X_scaled]"
      ],
      "execution_count": null,
      "outputs": []
    },
    {
      "cell_type": "code",
      "metadata": {
        "colab": {
          "base_uri": "https://localhost:8080/"
        },
        "id": "GbIOWNVSyadO",
        "outputId": "83738e02-c26b-4a96-b556-3b0374ab4d58"
      },
      "source": [
        "y[:5]"
      ],
      "execution_count": null,
      "outputs": [
        {
          "output_type": "execute_result",
          "data": {
            "text/plain": [
              "[0.024800286157148133,\n",
              " 0.014427089543340932,\n",
              " 0.014665553833313805,\n",
              " 0.025754143317038736,\n",
              " 0.033504232741147]"
            ]
          },
          "metadata": {
            "tags": []
          },
          "execution_count": 115
        }
      ]
    },
    {
      "cell_type": "markdown",
      "metadata": {
        "id": "L1AJi17SyadO"
      },
      "source": [
        "#### **División del dataset**"
      ]
    },
    {
      "cell_type": "code",
      "metadata": {
        "colab": {
          "base_uri": "https://localhost:8080/"
        },
        "id": "ETJOUEOVyadO",
        "outputId": "4f077a9e-dccf-4f25-a146-07314e779153"
      },
      "source": [
        "split = int(len(X_scaled) * 0.8)\n",
        "print(split)"
      ],
      "execution_count": null,
      "outputs": [
        {
          "output_type": "stream",
          "text": [
            "1401\n"
          ],
          "name": "stdout"
        }
      ]
    },
    {
      "cell_type": "code",
      "metadata": {
        "id": "jrPBK4cVyadO"
      },
      "source": [
        "#División de la data de entrenamiento y test\n",
        "X_train = X_scaled[:split]\n",
        "X_test = X_scaled[split : len(X_scaled)]\n",
        "y_train = y[:split]\n",
        "y_test = y[split : len(y)]"
      ],
      "execution_count": null,
      "outputs": []
    },
    {
      "cell_type": "code",
      "metadata": {
        "id": "_X6bOF4TyadO"
      },
      "source": [
        "#Verificación de longitud\n",
        "assert len(X_train) == len(y_train)\n",
        "assert len(X_test) == len(y_test)"
      ],
      "execution_count": null,
      "outputs": []
    },
    {
      "cell_type": "markdown",
      "metadata": {
        "id": "c6w6vL2hyadO"
      },
      "source": [
        "#### **Etiquetado de registros**\n"
      ]
    },
    {
      "cell_type": "markdown",
      "metadata": {
        "id": "DH9tQRlmyadO"
      },
      "source": [
        "Queremos predecir el precio de las acciones en el futuro. Predeciremos el precio de las acciones en el tiempo t + 1 en relación con el precio de las acciones en el tiempo t.\n",
        "\n",
        "Ya que se va a usar la arquitectura LSTM, sabemos que tiene memoria y que se mantiene estableciendo las ***épocas***, básicamente cuántos pasos en el pasado queremos que use LSTM.\n",
        "\n",
        "Las ***épocas*** se refiere a cuántos pasos en el tiempo queremos que utilice el algoritmo de retropropagación al calcular los gradientes para las actualizaciones de peso durante el entrenamiento.\n",
        "\n",
        "Mencionado lo anterior, se debe usar un método para crear tanto el paso de tiempo como la variable de salida, el t + 1."
      ]
    },
    {
      "cell_type": "code",
      "metadata": {
        "id": "2f3IwHmgyadO"
      },
      "source": [
        "n = 3\n",
        "Xtrain = []\n",
        "ytrain = []\n",
        "Xtest = []\n",
        "ytest = []\n",
        "for i in range(n, len(X_train)):\n",
        "    Xtrain.append(X_train[i - n : i, : X_train.shape[1]])\n",
        "    ytrain.append(y_train[i]) \n",
        "for i in range(n, len(X_test)):\n",
        "    Xtest.append(X_test[i - n : i, : X_test.shape[1]])\n",
        "    ytest.append(y_test[i])"
      ],
      "execution_count": null,
      "outputs": []
    },
    {
      "cell_type": "code",
      "metadata": {
        "colab": {
          "base_uri": "https://localhost:8080/"
        },
        "id": "ymncYxN_yadP",
        "outputId": "ea82cf8a-1d9c-4918-ebd3-edca33c987c2"
      },
      "source": [
        "Xtrain[0]"
      ],
      "execution_count": null,
      "outputs": [
        {
          "output_type": "execute_result",
          "data": {
            "text/plain": [
              "array([[0.02480029, 0.6063657 ],\n",
              "       [0.01442709, 0.50534309],\n",
              "       [0.01466555, 0.53819647]])"
            ]
          },
          "metadata": {
            "tags": []
          },
          "execution_count": 120
        }
      ]
    },
    {
      "cell_type": "code",
      "metadata": {
        "colab": {
          "base_uri": "https://localhost:8080/"
        },
        "id": "6M3ErTfIyadP",
        "outputId": "711373e5-198f-4c2d-9f92-6c8042663a4f"
      },
      "source": [
        "ytrain[0]"
      ],
      "execution_count": null,
      "outputs": [
        {
          "output_type": "execute_result",
          "data": {
            "text/plain": [
              "0.025754143317038736"
            ]
          },
          "metadata": {
            "tags": []
          },
          "execution_count": 121
        }
      ]
    },
    {
      "cell_type": "markdown",
      "metadata": {
        "id": "Ef6eBlt_yadP"
      },
      "source": [
        "En una red LSTM, la entrada para cada capa LSTM debe contener la siguiente información:\n",
        "- El número de observaciones\n",
        "- Las épocas\n",
        "- Las características\n",
        "\n",
        "Por lo tanto, necesitamos agregar una dimensión temporal en comparación con una red clásica:\n",
        "\n",
        "(número de observaciones, número de épocas, número de características por paso)"
      ]
    },
    {
      "cell_type": "code",
      "metadata": {
        "id": "AFXBt71UyadP"
      },
      "source": [
        "Xtrain, ytrain = (np.array(Xtrain), np.array(ytrain))\n",
        "Xtrain = np.reshape(Xtrain, (Xtrain.shape[0], Xtrain.shape[1], Xtrain.shape[2]))\n",
        "\n",
        "Xtest, ytest = (np.array(Xtest), np.array(ytest))\n",
        "Xtest = np.reshape(Xtest, (Xtest.shape[0], Xtest.shape[1], Xtest.shape[2]))"
      ],
      "execution_count": null,
      "outputs": []
    },
    {
      "cell_type": "code",
      "metadata": {
        "scrolled": true,
        "colab": {
          "base_uri": "https://localhost:8080/"
        },
        "id": "YfklIfu0yadP",
        "outputId": "c42ecbad-4684-4e41-86f1-ccd6635002f9"
      },
      "source": [
        "print(Xtrain.shape)\n",
        "print(ytrain.shape)\n",
        "print(\"---\")\n",
        "print(Xtest.shape)\n",
        "print(ytest.shape)"
      ],
      "execution_count": null,
      "outputs": [
        {
          "output_type": "stream",
          "text": [
            "(1398, 3, 2)\n",
            "(1398,)\n",
            "---\n",
            "(348, 3, 2)\n",
            "(348,)\n"
          ],
          "name": "stdout"
        }
      ]
    },
    {
      "cell_type": "markdown",
      "metadata": {
        "id": "4AvtDO7myadP"
      },
      "source": [
        "#### **LSTM Model**"
      ]
    },
    {
      "cell_type": "code",
      "metadata": {
        "scrolled": true,
        "id": "3l6kNmK0yadP",
        "colab": {
          "base_uri": "https://localhost:8080/"
        },
        "outputId": "1cd90a1f-5c8e-443e-91b4-48aa6521fb74"
      },
      "source": [
        "model = Sequential()\n",
        "model.add(LSTM(4, input_shape=(Xtrain.shape[1], Xtrain.shape[2])))\n",
        "model.add(Dense(1))\n",
        "model.compile(loss=\"mean_squared_error\", optimizer=\"adam\")\n",
        "history = model.fit(\n",
        "    Xtrain, ytrain, epochs=50, validation_data=(Xtest, ytest), batch_size=20, verbose=1\n",
        ")"
      ],
      "execution_count": 186,
      "outputs": [
        {
          "output_type": "stream",
          "text": [
            "Epoch 1/50\n",
            "70/70 [==============================] - 1s 8ms/step - loss: 0.0724 - val_loss: 0.3269\n",
            "Epoch 2/50\n",
            "70/70 [==============================] - 0s 3ms/step - loss: 0.0254 - val_loss: 0.1351\n",
            "Epoch 3/50\n",
            "70/70 [==============================] - 0s 2ms/step - loss: 0.0155 - val_loss: 0.0789\n",
            "Epoch 4/50\n",
            "70/70 [==============================] - 0s 2ms/step - loss: 0.0079 - val_loss: 0.0361\n",
            "Epoch 5/50\n",
            "70/70 [==============================] - 0s 3ms/step - loss: 0.0024 - val_loss: 0.0107\n",
            "Epoch 6/50\n",
            "70/70 [==============================] - 0s 3ms/step - loss: 6.0311e-04 - val_loss: 0.0046\n",
            "Epoch 7/50\n",
            "70/70 [==============================] - 0s 3ms/step - loss: 4.1444e-04 - val_loss: 0.0040\n",
            "Epoch 8/50\n",
            "70/70 [==============================] - 0s 3ms/step - loss: 4.0473e-04 - val_loss: 0.0040\n",
            "Epoch 9/50\n",
            "70/70 [==============================] - 0s 3ms/step - loss: 4.0042e-04 - val_loss: 0.0043\n",
            "Epoch 10/50\n",
            "70/70 [==============================] - 0s 2ms/step - loss: 3.9569e-04 - val_loss: 0.0046\n",
            "Epoch 11/50\n",
            "70/70 [==============================] - 0s 3ms/step - loss: 3.8880e-04 - val_loss: 0.0047\n",
            "Epoch 12/50\n",
            "70/70 [==============================] - 0s 3ms/step - loss: 3.8617e-04 - val_loss: 0.0052\n",
            "Epoch 13/50\n",
            "70/70 [==============================] - 0s 2ms/step - loss: 3.8145e-04 - val_loss: 0.0050\n",
            "Epoch 14/50\n",
            "70/70 [==============================] - 0s 3ms/step - loss: 3.7789e-04 - val_loss: 0.0055\n",
            "Epoch 15/50\n",
            "70/70 [==============================] - 0s 3ms/step - loss: 3.7317e-04 - val_loss: 0.0057\n",
            "Epoch 16/50\n",
            "70/70 [==============================] - 0s 3ms/step - loss: 3.6925e-04 - val_loss: 0.0054\n",
            "Epoch 17/50\n",
            "70/70 [==============================] - 0s 3ms/step - loss: 3.6567e-04 - val_loss: 0.0061\n",
            "Epoch 18/50\n",
            "70/70 [==============================] - 0s 3ms/step - loss: 3.6271e-04 - val_loss: 0.0063\n",
            "Epoch 19/50\n",
            "70/70 [==============================] - 0s 2ms/step - loss: 3.6040e-04 - val_loss: 0.0060\n",
            "Epoch 20/50\n",
            "70/70 [==============================] - 0s 3ms/step - loss: 3.5938e-04 - val_loss: 0.0065\n",
            "Epoch 21/50\n",
            "70/70 [==============================] - 0s 3ms/step - loss: 3.5969e-04 - val_loss: 0.0063\n",
            "Epoch 22/50\n",
            "70/70 [==============================] - 0s 3ms/step - loss: 3.5463e-04 - val_loss: 0.0067\n",
            "Epoch 23/50\n",
            "70/70 [==============================] - 0s 3ms/step - loss: 3.5286e-04 - val_loss: 0.0065\n",
            "Epoch 24/50\n",
            "70/70 [==============================] - 0s 3ms/step - loss: 3.5293e-04 - val_loss: 0.0062\n",
            "Epoch 25/50\n",
            "70/70 [==============================] - 0s 3ms/step - loss: 3.4889e-04 - val_loss: 0.0065\n",
            "Epoch 26/50\n",
            "70/70 [==============================] - 0s 3ms/step - loss: 3.4845e-04 - val_loss: 0.0064\n",
            "Epoch 27/50\n",
            "70/70 [==============================] - 0s 3ms/step - loss: 3.4544e-04 - val_loss: 0.0065\n",
            "Epoch 28/50\n",
            "70/70 [==============================] - 0s 3ms/step - loss: 3.4721e-04 - val_loss: 0.0075\n",
            "Epoch 29/50\n",
            "70/70 [==============================] - 0s 3ms/step - loss: 3.4527e-04 - val_loss: 0.0069\n",
            "Epoch 30/50\n",
            "70/70 [==============================] - 0s 3ms/step - loss: 3.4002e-04 - val_loss: 0.0066\n",
            "Epoch 31/50\n",
            "70/70 [==============================] - 0s 3ms/step - loss: 3.4475e-04 - val_loss: 0.0072\n",
            "Epoch 32/50\n",
            "70/70 [==============================] - 0s 3ms/step - loss: 3.3799e-04 - val_loss: 0.0070\n",
            "Epoch 33/50\n",
            "70/70 [==============================] - 0s 3ms/step - loss: 3.3829e-04 - val_loss: 0.0069\n",
            "Epoch 34/50\n",
            "70/70 [==============================] - 0s 3ms/step - loss: 3.3823e-04 - val_loss: 0.0064\n",
            "Epoch 35/50\n",
            "70/70 [==============================] - 0s 3ms/step - loss: 3.3788e-04 - val_loss: 0.0064\n",
            "Epoch 36/50\n",
            "70/70 [==============================] - 0s 3ms/step - loss: 3.3392e-04 - val_loss: 0.0064\n",
            "Epoch 37/50\n",
            "70/70 [==============================] - 0s 3ms/step - loss: 3.3077e-04 - val_loss: 0.0064\n",
            "Epoch 38/50\n",
            "70/70 [==============================] - 0s 3ms/step - loss: 3.3078e-04 - val_loss: 0.0064\n",
            "Epoch 39/50\n",
            "70/70 [==============================] - 0s 3ms/step - loss: 3.3144e-04 - val_loss: 0.0064\n",
            "Epoch 40/50\n",
            "70/70 [==============================] - 0s 3ms/step - loss: 3.3197e-04 - val_loss: 0.0065\n",
            "Epoch 41/50\n",
            "70/70 [==============================] - 0s 3ms/step - loss: 3.2759e-04 - val_loss: 0.0063\n",
            "Epoch 42/50\n",
            "70/70 [==============================] - 0s 3ms/step - loss: 3.2808e-04 - val_loss: 0.0064\n",
            "Epoch 43/50\n",
            "70/70 [==============================] - 0s 3ms/step - loss: 3.2479e-04 - val_loss: 0.0065\n",
            "Epoch 44/50\n",
            "70/70 [==============================] - 0s 3ms/step - loss: 3.2328e-04 - val_loss: 0.0063\n",
            "Epoch 45/50\n",
            "70/70 [==============================] - 0s 3ms/step - loss: 3.2279e-04 - val_loss: 0.0063\n",
            "Epoch 46/50\n",
            "70/70 [==============================] - 0s 3ms/step - loss: 3.2171e-04 - val_loss: 0.0056\n",
            "Epoch 47/50\n",
            "70/70 [==============================] - 0s 3ms/step - loss: 3.2028e-04 - val_loss: 0.0054\n",
            "Epoch 48/50\n",
            "70/70 [==============================] - 0s 3ms/step - loss: 3.1815e-04 - val_loss: 0.0064\n",
            "Epoch 49/50\n",
            "70/70 [==============================] - 0s 3ms/step - loss: 3.1422e-04 - val_loss: 0.0057\n",
            "Epoch 50/50\n",
            "70/70 [==============================] - 0s 3ms/step - loss: 3.2184e-04 - val_loss: 0.0059\n"
          ],
          "name": "stdout"
        }
      ]
    },
    {
      "cell_type": "code",
      "metadata": {
        "colab": {
          "base_uri": "https://localhost:8080/",
          "height": 405
        },
        "id": "VBLOkpGaz1Jq",
        "outputId": "1eb82f3a-ae45-4a90-ceaf-87985147f713"
      },
      "source": [
        "plt.figure(figsize=(10, 6))\n",
        "pyplot.plot(history.history['loss'])\n",
        "pyplot.plot(history.history['val_loss'])\n",
        "pyplot.title('Pérdida Entrenamiento vs Validación')\n",
        "pyplot.ylabel('Pérdida')\n",
        "pyplot.xlabel('Época')\n",
        "pyplot.legend(['Entrenamiento', 'Validación'], loc='upper right')\n",
        "pyplot.show()"
      ],
      "execution_count": 189,
      "outputs": [
        {
          "output_type": "display_data",
          "data": {
            "image/png": "[encoded data removed]",
            "text/plain": [
              "<Figure size 720x432 with 1 Axes>"
            ]
          },
          "metadata": {
            "tags": [],
            "needs_background": "light"
          }
        }
      ]
    },
    {
      "cell_type": "code",
      "metadata": {
        "colab": {
          "base_uri": "https://localhost:8080/"
        },
        "id": "FwNvXwySyadP",
        "outputId": "0e529c1e-f6a2-49af-f945-6fef0ab3f001"
      },
      "source": [
        "model.summary()"
      ],
      "execution_count": 190,
      "outputs": [
        {
          "output_type": "stream",
          "text": [
            "Model: \"sequential_60\"\n",
            "_________________________________________________________________\n",
            "Layer (type)                 Output Shape              Param #   \n",
            "=================================================================\n",
            "lstm_1 (LSTM)                (None, 4)                 112       \n",
            "_________________________________________________________________\n",
            "dense_60 (Dense)             (None, 1)                 5         \n",
            "=================================================================\n",
            "Total params: 117\n",
            "Trainable params: 117\n",
            "Non-trainable params: 0\n",
            "_________________________________________________________________\n"
          ],
          "name": "stdout"
        }
      ]
    },
    {
      "cell_type": "markdown",
      "metadata": {
        "id": "kuX4gy4yrZbJ"
      },
      "source": [
        "##### Cálculo del error cuadrático medio"
      ]
    },
    {
      "cell_type": "code",
      "metadata": {
        "id": "rhc9nQtryadP"
      },
      "source": [
        "trainPredict = model.predict(Xtrain)\n",
        "testPredict = model.predict(Xtest)"
      ],
      "execution_count": 200,
      "outputs": []
    },
    {
      "cell_type": "code",
      "metadata": {
        "id": "Lnb9LVRvyadP"
      },
      "source": [
        "trainPredict = np.c_[trainPredict, np.zeros(trainPredict.shape)]\n",
        "testPredict = np.c_[testPredict, np.zeros(testPredict.shape)]"
      ],
      "execution_count": 201,
      "outputs": []
    },
    {
      "cell_type": "code",
      "metadata": {
        "id": "w2NYoaOayadP"
      },
      "source": [
        "# invert predictions\n",
        "trainPredict = scaler.inverse_transform(trainPredict)\n",
        "trainPredict = [x[0] for x in trainPredict]\n",
        "\n",
        "testPredict = scaler.inverse_transform(testPredict)\n",
        "testPredict = [x[0] for x in testPredict]\n"
      ],
      "execution_count": 202,
      "outputs": []
    },
    {
      "cell_type": "code",
      "metadata": {
        "colab": {
          "base_uri": "https://localhost:8080/"
        },
        "id": "MJ2lNQfkyadP",
        "outputId": "9434ce53-b63b-43be-b9c0-70b5cdd66e6f"
      },
      "source": [
        "print(trainPredict[:5])\n",
        "print(testPredict[:5])"
      ],
      "execution_count": 203,
      "outputs": [
        {
          "output_type": "stream",
          "text": [
            "[135.02439110368488, 135.25678123611956, 135.53755459226667, 135.8036623226851, 136.54153491634875]\n",
            "[182.91845610022546, 182.7119456934929, 182.51411362290384, 181.8742962920666, 179.76546560823917]\n"
          ],
          "name": "stdout"
        }
      ]
    },
    {
      "cell_type": "code",
      "metadata": {
        "colab": {
          "base_uri": "https://localhost:8080/"
        },
        "id": "Jl9aB6UnyadP",
        "outputId": "7e913870-e616-4c80-b323-477e8c00918b"
      },
      "source": [
        "trainScore = mean_squared_error([x[0][0] for x in Xtrain], trainPredict, squared=False)\n",
        "print(\"Train Score: %.10f RMSE\" % (trainScore))\n",
        "\n",
        "testScore = mean_squared_error([x[0][0] for x in Xtest], testPredict, squared=False)\n",
        "print(\"Test Score: %.10f RMSE\" % (testScore))"
      ],
      "execution_count": 204,
      "outputs": [
        {
          "output_type": "stream",
          "text": [
            "Train Score: 156.2457648833 RMSE\n",
            "Test Score: 193.2102874787 RMSE\n"
          ],
          "name": "stdout"
        }
      ]
    },
    {
      "cell_type": "markdown",
      "metadata": {
        "id": "so-tIbnJAIg8"
      },
      "source": [
        "##### Predicción Gráfica"
      ]
    },
    {
      "cell_type": "code",
      "metadata": {
        "colab": {
          "base_uri": "https://localhost:8080/",
          "height": 388
        },
        "id": "3sKYO671AKmh",
        "outputId": "9c314365-a27f-48cc-9e46-07acb47093b2"
      },
      "source": [
        "def graficar_predicciones(real, prediccion):\n",
        "    plt.figure(figsize=(10, 6))\n",
        "    plt.plot(real[0:len(prediccion)],color='red', label='Valor real de la acción')\n",
        "    plt.plot(prediccion, color='blue', label='Predicción de la acción')\n",
        "    plt.ylim(1.1 * np.min(prediccion)/2, 1.1 * np.max(prediccion))\n",
        "    plt.xlabel('Tiempo')\n",
        "    plt.ylabel('Valor de la acción')\n",
        "    plt.legend()\n",
        "    plt.show()\n",
        "\n",
        "graficar_predicciones(list(df['close'][1400:]), testPredict)"
      ],
      "execution_count": 206,
      "outputs": [
        {
          "output_type": "display_data",
          "data": {
            "image/png": "[encoded data removed]",
            "text/plain": [
              "<Figure size 720x432 with 1 Axes>"
            ]
          },
          "metadata": {
            "tags": [],
            "needs_background": "light"
          }
        }
      ]
    },
    {
      "cell_type": "markdown",
      "metadata": {
        "id": "FBbTZNsoAj-g"
      },
      "source": [
        "##### Validación de entrenamiento"
      ]
    },
    {
      "cell_type": "code",
      "metadata": {
        "colab": {
          "base_uri": "https://localhost:8080/",
          "height": 620
        },
        "id": "TAeukKX5rn_l",
        "outputId": "35b3d2a4-7d65-4f3e-93c9-fbe671e5959b"
      },
      "source": [
        "entreno = pd.DataFrame()\n",
        "valida = pd.DataFrame()\n",
        "for i in range(5):\n",
        "  model = Sequential()\n",
        "  model.add(LSTM(4, input_shape=(Xtrain.shape[1], Xtrain.shape[2])))\n",
        "  model.add(Dense(1))\n",
        "  model.compile(loss=\"mean_squared_error\", optimizer=\"adam\")\n",
        "  history = model.fit(Xtrain, ytrain, epochs=50, validation_data=(Xtest, ytest), batch_size=20, verbose=0)\n",
        "  entreno[str(i)] = history.history['loss']\n",
        "  valida[str(i)] = history.history['val_loss']\n",
        "\n",
        "pyplot.figure(figsize=(15, 10))\n",
        "pyplot.plot(entreno, color='blue', label='Entrenamiento')\n",
        "pyplot.plot(valida, color='orange', label='Validación')\n",
        "pyplot.title('Model Train vs Validation loss')\n",
        "pyplot.ylabel('Loss')\n",
        "pyplot.xlabel('Epoch')\n",
        "pyplot.show()"
      ],
      "execution_count": 208,
      "outputs": [
        {
          "output_type": "display_data",
          "data": {
            "image/png": "[encoded data removed]",
            "text/plain": [
              "<Figure size 1080x720 with 1 Axes>"
            ]
          },
          "metadata": {
            "tags": [],
            "needs_background": "light"
          }
        }
      ]
    },
    {
      "cell_type": "markdown",
      "metadata": {
        "id": "iRZbVGCyBD3S"
      },
      "source": [
        "##### Época óptima"
      ]
    },
    {
      "cell_type": "code",
      "metadata": {
        "id": "e6gTtVkdq952"
      },
      "source": [
        "results = []\n",
        "for epoch in range(50, 155, 15):\n",
        "  model = Sequential()\n",
        "  model.add(LSTM(4, input_shape=(Xtrain.shape[1], Xtrain.shape[2])))\n",
        "  model.add(Dense(1))\n",
        "  model.compile(loss=\"mean_squared_error\", optimizer=\"adam\")\n",
        "  history = model.fit(Xtrain, ytrain, epochs=epoch, validation_data=(Xtest, ytest), batch_size=20, verbose=0)\n",
        "  trainPredict = model.predict(Xtrain)\n",
        "  testPredict = model.predict(Xtest)\n",
        "  results.append(mean_squared_error([x[0][0] for x in Xtest], testPredict, squared=False))"
      ],
      "execution_count": 211,
      "outputs": []
    },
    {
      "cell_type": "code",
      "metadata": {
        "colab": {
          "base_uri": "https://localhost:8080/",
          "height": 405
        },
        "id": "qMWzEkAa3VPd",
        "outputId": "b8c27893-c6bb-4492-99af-67c062eb1717"
      },
      "source": [
        "names = [i for i in range(50, 155, 15)]\n",
        "plt.figure(figsize=(10, 6))\n",
        "plt.bar(names, results, width=8, color = '#D48472')\n",
        "plt.xticks(names, names)\n",
        "plt.ylabel('Error')\n",
        "plt.xlabel('Época')\n",
        "plt.title('Error medio cuadrático')\n",
        "plt.show()"
      ],
      "execution_count": 214,
      "outputs": [
        {
          "output_type": "display_data",
          "data": {
            "image/png": "[encoded data removed]",
            "text/plain": [
              "<Figure size 720x432 with 1 Axes>"
            ]
          },
          "metadata": {
            "tags": [],
            "needs_background": "light"
          }
        }
      ]
    },
    {
      "cell_type": "markdown",
      "metadata": {
        "id": "4kHyJAWCBeeL"
      },
      "source": [
        "Observamos que en la prueba realizada la época con menor error medio cuadrático es **95**. Conservaremos este valor para la siguiente optimización."
      ]
    },
    {
      "cell_type": "markdown",
      "metadata": {
        "id": "kUq6KOWGBpQn"
      },
      "source": [
        "##### Batchsize óptimo"
      ]
    },
    {
      "cell_type": "code",
      "metadata": {
        "id": "JzFpGve6Chnf"
      },
      "source": [
        "results = []\n",
        "for batch_size in range(20, 100, 10):\n",
        "  model = Sequential()\n",
        "  model.add(LSTM(4, input_shape=(Xtrain.shape[1], Xtrain.shape[2])))\n",
        "  model.add(Dense(1))\n",
        "  model.compile(loss=\"mean_squared_error\", optimizer=\"adam\")\n",
        "  history = model.fit(Xtrain, ytrain, epochs=95, validation_data=(Xtest, ytest), batch_size=batch_size, verbose=0)\n",
        "  trainPredict = model.predict(Xtrain)\n",
        "  testPredict = model.predict(Xtest)\n",
        "  results.append(mean_squared_error([x[0][0] for x in Xtest], testPredict, squared=False))"
      ],
      "execution_count": 215,
      "outputs": []
    },
    {
      "cell_type": "code",
      "metadata": {
        "colab": {
          "base_uri": "https://localhost:8080/",
          "height": 403
        },
        "id": "jxt_v3EJCsgh",
        "outputId": "23a6bd8e-5cd4-46c0-8151-7f81bb308848"
      },
      "source": [
        "names = [i for i in range(20, 100, 10)]\n",
        "plt.figure(figsize=(10, 6))\n",
        "plt.bar(names, results, width=8, color = '#4F94BB')\n",
        "plt.xticks(names, names)\n",
        "plt.ylabel('Error')\n",
        "plt.xlabel('Batchsize')\n",
        "plt.title('Error medio cuadrático')\n",
        "plt.show()"
      ],
      "execution_count": 218,
      "outputs": [
        {
          "output_type": "display_data",
          "data": {
            "image/png": "[encoded data removed]",
            "text/plain": [
              "<Figure size 720x432 with 1 Axes>"
            ]
          },
          "metadata": {
            "tags": [],
            "needs_background": "light"
          }
        }
      ]
    },
    {
      "cell_type": "markdown",
      "metadata": {
        "id": "WreQ_8rEDVQ0"
      },
      "source": [
        "Observamos que en la prueba realizada el menor error medio cuadrático obtenido es cuando el valor del batchsize es igual a **50**. Conservaremos este valor para las comparaciones con las otras RNN."
      ]
    },
    {
      "cell_type": "markdown",
      "metadata": {
        "id": "QByYAJ06EYi9"
      },
      "source": [
        "#### **Comparación con otras RNN**"
      ]
    },
    {
      "cell_type": "code",
      "metadata": {
        "id": "Q10xjwMlFFZ5"
      },
      "source": [
        "errors = {'LSTM': 0, 'GRU': 0, 'Simple-RNN': 0}\n",
        "\n",
        "epochs = 95\n",
        "batch_size = 50\n",
        "\n",
        "# Red LSTM\n",
        "model = Sequential()\n",
        "model.add(LSTM(4, input_shape=(Xtrain.shape[1], Xtrain.shape[2])))\n",
        "model.add(Dense(1))\n",
        "model.compile(loss=\"mean_squared_error\", optimizer=\"adam\")\n",
        "model.fit(Xtrain, ytrain, epochs=epochs, validation_data=(Xtest, ytest), batch_size=batch_size, verbose=0)\n",
        "trainPredict = model.predict(Xtrain)\n",
        "testPredict = model.predict(Xtest)\n",
        "errors[\"LSTM\"] = mean_squared_error([x[0][0] for x in Xtest], testPredict, squared=False)\n",
        "\n",
        "# Red GRU\n",
        "model = Sequential()\n",
        "model.add(GRU(4, input_shape=(Xtrain.shape[1], Xtrain.shape[2])))\n",
        "model.add(Dense(1))\n",
        "model.compile(loss=\"mean_squared_error\", optimizer=\"adam\")\n",
        "model.fit(Xtrain, ytrain, epochs=epochs, validation_data=(Xtest, ytest), batch_size=batch_size, verbose=0)\n",
        "trainPredict = model.predict(Xtrain)\n",
        "testPredict = model.predict(Xtest)\n",
        "errors[\"GRU\"] = mean_squared_error([x[0][0] for x in Xtest], testPredict, squared=False)\n",
        "\n",
        "# Red RNN\n",
        "model = Sequential()\n",
        "model.add(SimpleRNN(4, input_shape=(Xtrain.shape[1], Xtrain.shape[2])))\n",
        "model.add(Dense(1))\n",
        "model.compile(loss=\"mean_squared_error\", optimizer=\"adam\")\n",
        "model.fit(Xtrain, ytrain, epochs=epochs, validation_data=(Xtest, ytest), batch_size=batch_size, verbose=0)\n",
        "trainPredict = model.predict(Xtrain)\n",
        "testPredict = model.predict(Xtest)\n",
        "errors[\"Simple-RNN\"] = mean_squared_error([x[0][0] for x in Xtest], testPredict, squared=False)\n"
      ],
      "execution_count": null,
      "outputs": []
    },
    {
      "cell_type": "code",
      "metadata": {
        "colab": {
          "base_uri": "https://localhost:8080/",
          "height": 403
        },
        "id": "koxkOc14Fzjy",
        "outputId": "dfa6ec9c-98bf-4d1b-a0e8-cff2d0b88838"
      },
      "source": [
        "plt.figure(figsize=(10, 6))\n",
        "plt.bar(range(len(errors)), list(errors.values()), align='center', color=['blue', 'red', 'green'])\n",
        "plt.xticks(range(len(errors)), list(errors.keys()))\n",
        "plt.ylabel('Error')\n",
        "plt.xlabel('Modelo')\n",
        "plt.title('Error vs. Modelo')\n",
        "plt.show()"
      ],
      "execution_count": 224,
      "outputs": [
        {
          "output_type": "display_data",
          "data": {
            "image/png": "[encoded data removed]",
            "text/plain": [
              "<Figure size 720x432 with 1 Axes>"
            ]
          },
          "metadata": {
            "tags": [],
            "needs_background": "light"
          }
        }
      ]
    }
  ]
}