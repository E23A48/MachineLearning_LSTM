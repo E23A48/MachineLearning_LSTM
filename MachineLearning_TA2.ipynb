{
  "nbformat": 4,
  "nbformat_minor": 0,
  "metadata": {
    "colab": {
      "name": "MachineLearning_TA2.ipynb",
      "provenance": [],
      "authorship_tag": "ABX9TyNScqqyfwrcNgfb/Wjl6RTF",
      "include_colab_link": true
    },
    "kernelspec": {
      "name": "python3",
      "display_name": "Python 3"
    }
  },
  "cells": [
    {
      "cell_type": "markdown",
      "metadata": {
        "id": "view-in-github",
        "colab_type": "text"
      },
      "source": [
        "<a href=\"https://colab.research.google.com/github/E23A48/MachineLearning_LSTM/blob/main/MachineLearning_TA2.ipynb\" target=\"_parent\"><img src=\"https://colab.research.google.com/assets/colab-badge.svg\" alt=\"Open In Colab\"/></a>"
      ]
    },
    {
      "cell_type": "markdown",
      "metadata": {
        "id": "q8dXq_fLqDd3"
      },
      "source": [
        "**TA2**\n",
        "**MACHINE LEARNING**\n",
        "2020-2\n",
        "\n",
        "Integrantes:\n",
        "*   Piero Herrera\n",
        "*   Camilo Silva\n"
      ]
    },
    {
      "cell_type": "markdown",
      "metadata": {
        "id": "J5z9cnBKqgu3"
      },
      "source": [
        "## **Introducción y motivación de uso**"
      ]
    },
    {
      "cell_type": "markdown",
      "metadata": {
        "id": "X_EfChmurA1M"
      },
      "source": [
        ""
      ]
    },
    {
      "cell_type": "markdown",
      "metadata": {
        "id": "DewWs4YkqgnF"
      },
      "source": [
        "## **Cómo funciona**"
      ]
    },
    {
      "cell_type": "markdown",
      "metadata": {
        "id": "WIkCcm10rBu2"
      },
      "source": [
        ""
      ]
    },
    {
      "cell_type": "markdown",
      "metadata": {
        "id": "05aobgnsqgft"
      },
      "source": [
        "## **Bibliotecas**"
      ]
    },
    {
      "cell_type": "markdown",
      "metadata": {
        "id": "XDfquQWVrCMz"
      },
      "source": [
        ""
      ]
    },
    {
      "cell_type": "markdown",
      "metadata": {
        "id": "m6uaSxClqz4K"
      },
      "source": [
        "## **Ejemplos de aplicaciones**"
      ]
    },
    {
      "cell_type": "markdown",
      "metadata": {
        "id": "OpXuNMALrC5Y"
      },
      "source": [
        ""
      ]
    },
    {
      "cell_type": "markdown",
      "metadata": {
        "id": "OAiNCEqUq3w3"
      },
      "source": [
        "## **Conclusiones**"
      ]
    },
    {
      "cell_type": "markdown",
      "metadata": {
        "id": "3Nd4McworDVc"
      },
      "source": [
        ""
      ]
    },
    {
      "cell_type": "markdown",
      "metadata": {
        "id": "aPY7fK1Jq6zb"
      },
      "source": [
        "## **Referencias**"
      ]
    },
    {
      "cell_type": "markdown",
      "metadata": {
        "id": "ypu0jmZ7rDx7"
      },
      "source": [
        ""
      ]
    }
  ]
}